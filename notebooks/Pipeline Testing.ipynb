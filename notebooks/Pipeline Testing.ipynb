{
 "cells": [
  {
   "cell_type": "code",
   "execution_count": 3,
   "id": "69bd93da",
   "metadata": {},
   "outputs": [],
   "source": [
    "import pandas as pd\n",
    "import sqlalchemy as sa\n"
   ]
  },
  {
   "cell_type": "code",
   "execution_count": 4,
   "id": "95b34532",
   "metadata": {},
   "outputs": [],
   "source": [
    "def get_outcome_and_intervention_modules(studies):\n",
    "    outcome_modules = []\n",
    "    intervention_modules = []\n",
    "    study_ids = []\n",
    "    for study in studies:\n",
    "        if (\n",
    "            \"ResultsSection\" in study[\"Study\"]\n",
    "            and \"OutcomeMeasuresModule\" in study[\"Study\"][\"ResultsSection\"]\n",
    "        ):\n",
    "            outcome_modules.append(study[\"Study\"][\"ResultsSection\"][\"OutcomeMeasuresModule\"])\n",
    "            study_ids.append(study['Study']['ProtocolSection']['IdentificationModule']['NCTId'])\n",
    "\n",
    "        elif \"ArmsInterventionsModule\" in study[\"Study\"][\"ProtocolSection\"]:\n",
    "            intervention_modules.append(study[\"Study\"][\"ProtocolSection\"][\"ArmsInterventionsModule\"])\n",
    "\n",
    "    return outcome_modules, intervention_modules, study_ids"
   ]
  },
  {
   "cell_type": "code",
   "execution_count": 5,
   "id": "c6ae110e",
   "metadata": {},
   "outputs": [],
   "source": [
    "def create_measurements_table_helper(studies):\n",
    "    outcome_modules, intervention_modules, study_ids = get_outcome_and_intervention_modules(studies)\n",
    "    df = {\n",
    "        \"study_id\": [],\n",
    "        \"measure\": [],\n",
    "        \"type\": [],\n",
    "        \"description\": [],\n",
    "        \"dispersion_param\": [],\n",
    "        \"measure_param\": [],\n",
    "        \"units\": [],\n",
    "    }\n",
    "\n",
    "    for i, module in enumerate(outcome_modules):\n",
    "        for measure in module[\"OutcomeMeasureList\"][\"OutcomeMeasure\"]:\n",
    "            df[\"type\"].append(measure.get(\"OutcomeMeasureType\", \"NA\"))\n",
    "            df[\"measure\"].append(measure.get(\"OutcomeMeasureTitle\", \"NA\"))\n",
    "            df[\"description\"].append(measure.get(\"OutcomeMeasureDescription\", \"NA\"))\n",
    "            df[\"measure_param\"].append(measure.get(\"OutcomeMeasureParamType\", \"NA\"))\n",
    "            df[\"dispersion_param\"].append(measure.get(\"OutcomeMeasureDispersionType\", \"NA\"))\n",
    "            df[\"units\"].append(measure.get(\"OutcomeMeasureUnitOfMeasure\", \"NA\"))\n",
    "            df[\"study_id\"].append(study_ids[i])\n",
    "\n",
    "    # This is for studies without results\n",
    "    # for i, module in enumerate(intervention_modules):\n",
    "    #     for measure in module.get(\"ArmGroupList\", {\"ArmGroup\": []})[\"ArmGroup\"]:\n",
    "    #         # Measure data is unstructured and often has other fields in the description.\n",
    "    #         df[\"type\"].append(\"NA\")\n",
    "    #         df[\"measure\"].append(measure.get(\"ArmGroupLabel\", \"NA\"))\n",
    "    #         df[\"description\"].append(measure.get(\"ArmGroupDescription\", \"NA\"))\n",
    "    #         df[\"measure_param\"].append(\"NA\")\n",
    "    #         df[\"dispersion_param\"].append(\"NA\")\n",
    "    #         df[\"units\"].append(\"NA\")\n",
    "    #         df[\"study_id\"].append(study_ids[i])\n",
    "\n",
    "    return pd.DataFrame.from_dict(df).reset_index(drop=True)"
   ]
  },
  {
   "cell_type": "code",
   "execution_count": 6,
   "id": "911c2317",
   "metadata": {},
   "outputs": [],
   "source": [
    "from tqdm import tqdm\n",
    "import os\n",
    "import pickle\n",
    "\n",
    "DATA_PATH='/Users/porterhunley/datasets'\n",
    "\n",
    "def create_measurements_table():\n",
    "    measurements_table_dfs = []\n",
    "    directory = DATA_PATH + \"/clinical_trials/\"\n",
    "    print(\"Deserializing studies...\")\n",
    "    for studies_data_pickle_file in tqdm(os.listdir(directory)):\n",
    "        studies_file = os.path.join(directory, studies_data_pickle_file)\n",
    "        with open(studies_file, \"rb\") as f:\n",
    "            studies_data = pickle.load(f)\n",
    "            measurements_table_df = create_measurements_table_helper(\n",
    "                studies=studies_data\n",
    "            )\n",
    "            measurements_table_dfs.append(measurements_table_df)\n",
    "\n",
    "    measurements_table = pd.concat(measurements_table_dfs).reset_index(drop=True)\n",
    "    return measurements_table\n"
   ]
  },
  {
   "cell_type": "code",
   "execution_count": 19,
   "id": "3519ecc9",
   "metadata": {},
   "outputs": [
    {
     "name": "stdout",
     "output_type": "stream",
     "text": [
      "Deserializing studies...\n"
     ]
    },
    {
     "name": "stderr",
     "output_type": "stream",
     "text": [
      "100%|██████████████████████████████████████████████████████████████████████████████████████████████████████████| 87/87 [02:09<00:00,  1.49s/it]\n"
     ]
    }
   ],
   "source": [
    "measurements_table = create_measurements_table()"
   ]
  },
  {
   "cell_type": "code",
   "execution_count": 22,
   "id": "8fb12e03",
   "metadata": {},
   "outputs": [
    {
     "data": {
      "text/plain": [
       "34"
      ]
     },
     "execution_count": 22,
     "metadata": {},
     "output_type": "execute_result"
    }
   ],
   "source": [
    "measurements_table['dispersion_param'].str.len().max()"
   ]
  },
  {
   "cell_type": "markdown",
   "id": "d4170863",
   "metadata": {},
   "source": [
    "## More info from studies\n"
   ]
  },
  {
   "cell_type": "code",
   "execution_count": 61,
   "id": "30040d3b",
   "metadata": {},
   "outputs": [],
   "source": [
    "def create_studies_table_helper(studies) -> pd.DataFrame:\n",
    "    buffer = {\n",
    "        'nct_id': [], 'official_title': [], 'short_title': [], 'conditions': [],\n",
    "        'verified_date': [], 'responsible_party': [], 'sponsor': [], 'phase': [], 'type': [], 'description': [],\n",
    "        'interventions': [], 'purpose': [], 'intervention_type': [], 'mesh_terms': [],\n",
    "        'criteria': [], 'min_age': [], 'max_age': [], 'gender': [], 'completion_date': [], 'completion_date_type':[],\n",
    "        'status': [], 'stopped_reason': [], 'design_allocation': [], 'design_masking': [], 'design_time_perspective': [],\n",
    "        'who_masked': [], 'observational_model': [], 'masking_description': [], 'model_description': []\n",
    "    }\n",
    "    for _, study in enumerate(studies):\n",
    "        try:\n",
    "            buffer['nct_id'].append(study['Study']['ProtocolSection']['IdentificationModule']['NCTId'])\n",
    "        except KeyError as e:\n",
    "            buffer['nct_id'].append('NA')\n",
    "\n",
    "        try:\n",
    "            buffer['official_title'].append(study['Study']['ProtocolSection']['IdentificationModule']['OfficialTitle'])\n",
    "        except KeyError as e:\n",
    "            buffer['official_title'].append('NA')\n",
    "\n",
    "        try:\n",
    "            buffer['short_title'].append(study['Study']['ProtocolSection']['IdentificationModule']['BriefTitle'])\n",
    "        except KeyError as e:\n",
    "            buffer['short_title'].append('NA')\n",
    "\n",
    "        try:\n",
    "            buffer['verified_date'].append(study['Study']['ProtocolSection']['StatusModule']['StatusVerifiedDate'])\n",
    "        except KeyError as e:\n",
    "            buffer['verified_date'].append('NA')\n",
    "\n",
    "        try:\n",
    "            buffer['responsible_party'].append(\n",
    "                study['Study']['ProtocolSection']['SponsorCollaboratorsModule']['ResponsibleParty'][\n",
    "                    'ResponsiblePartyInvestigatorFullName'])\n",
    "        except KeyError as e:\n",
    "            buffer['responsible_party'].append('NA')\n",
    "\n",
    "        try:\n",
    "            buffer['sponsor'].append(\n",
    "                study['Study']['ProtocolSection']['SponsorCollaboratorsModule']['LeadSponsor']['LeadSponsorName'])\n",
    "        except KeyError as e:\n",
    "            buffer['sponsor'].append('NA')\n",
    "\n",
    "        try:\n",
    "            buffer['conditions'].append(\n",
    "                study['Study']['ProtocolSection']['ConditionsModule']['ConditionList']['Condition'])\n",
    "        except KeyError as e:\n",
    "            buffer['conditions'].append('NA')\n",
    "\n",
    "        try:\n",
    "            phases = study['Study']['ProtocolSection']['DesignModule']['PhaseList']['Phase']\n",
    "            if len(phases) > 1:\n",
    "                phase = ' '.join(phases)\n",
    "            else:\n",
    "                phase = 'NA' if phases[0] == 'Not Applicable' else phases[0]\n",
    "            buffer['phase'].append(phase)\n",
    "        except KeyError as e:\n",
    "            buffer['phase'].append('NA')\n",
    "\n",
    "        try:\n",
    "            buffer['type'].append(study['Study']['ProtocolSection']['DesignModule']['StudyType'])\n",
    "        except KeyError as e:\n",
    "            buffer['type'].append('NA')\n",
    "\n",
    "        try:\n",
    "            buffer['purpose'].append(\n",
    "                study['Study']['ProtocolSection']['DesignModule']['DesignInfo'].get('DesignPrimaryPurpose', 'NA'))\n",
    "        except KeyError as e:\n",
    "            buffer['purpose'].append('NA')\n",
    "\n",
    "        try:\n",
    "            buffer['intervention_type'].append(\n",
    "                study['Study']['ProtocolSection']['DesignModule']['DesignInfo'].get('DesignInterventionModel', 'NA'))\n",
    "        except KeyError as e:\n",
    "            buffer['intervention_type'].append('NA')\n",
    "\n",
    "        try:\n",
    "            buffer['mesh_terms'].append([x.get('ConditionMeshTerm', 'NA') for x in\n",
    "                                         study['Study']['DerivedSection']['ConditionBrowseModule']['ConditionMeshList'][\n",
    "                                             'ConditionMesh']])\n",
    "        except KeyError as e:\n",
    "            buffer['mesh_terms'].append([])\n",
    "\n",
    "        try:\n",
    "            buffer['description'].append(study['Study']['ProtocolSection']['DescriptionModule']['BriefSummary'])\n",
    "        except KeyError as e:\n",
    "            buffer['description'].append('NA')\n",
    "\n",
    "        try:\n",
    "            buffer['interventions'].append([x.get('InterventionMeshTerm', 'NA') for x in\n",
    "                                            study['Study']['DerivedSection']['InterventionBrowseModule'][\n",
    "                                                'InterventionMeshList']['InterventionMesh']])\n",
    "        except KeyError as e:\n",
    "            buffer['interventions'].append([])\n",
    "\n",
    "        try:\n",
    "            buffer['criteria'].append(study['Study']['ProtocolSection']['EligibilityModule']['EligibilityCriteria'])\n",
    "        except KeyError as e:\n",
    "            buffer['criteria'].append('NA')\n",
    "\n",
    "        try:\n",
    "            buffer['gender'].append(study['Study']['ProtocolSection']['EligibilityModule']['Gender'])\n",
    "        except KeyError as e:\n",
    "            buffer['gender'].append('NA')\n",
    "\n",
    "        try:\n",
    "            buffer['min_age'].append(study['Study']['ProtocolSection']['EligibilityModule']['MinimumAge'])\n",
    "        except KeyError as e:\n",
    "            buffer['min_age'].append('NA')\n",
    "\n",
    "        try:\n",
    "            buffer['max_age'].append(study['Study']['ProtocolSection']['EligibilityModule']['MaximumAge'])\n",
    "        except KeyError as e:\n",
    "            buffer['max_age'].append('NA')\n",
    "            \n",
    "        try:\n",
    "            buffer['status'].append(study['Study']['ProtocolSection']['StatusModule']['OverallStatus'])\n",
    "        except KeyError as e:\n",
    "            buffer['status'].append('NA')\n",
    "            \n",
    "        try:\n",
    "            buffer['completion_date'].append(study['Study']['ProtocolSection']['StatusModule']['PrimaryCompletionDateStruct']['PrimaryCompletionDate'])\n",
    "        except KeyError as e:\n",
    "            buffer['completion_date'].append('NA')\n",
    "            \n",
    "        try:\n",
    "            buffer['completion_date_type'].append(study['Study']['ProtocolSection']['StatusModule']['PrimaryCompletionDateStruct']['PrimaryCompletionDateType'])\n",
    "        except KeyError as e:\n",
    "            buffer['completion_date_type'].append('NA')\n",
    "\n",
    "        try:\n",
    "            buffer['stopped_reason'].append(study['Study']['ProtocolSection']['StatusModule']['WhyStopped'])\n",
    "        except KeyError as e:\n",
    "            buffer['stopped_reason'].append('NA')\n",
    "            \n",
    "        try:\n",
    "            buffer['design_allocation'].append(study['Study']['ProtocolSection']['DesignModule']['DesignInfo']['DesignAllocation'])\n",
    "        except KeyError as e:\n",
    "            buffer['design_allocation'].append('NA')\n",
    "        \n",
    "        try:\n",
    "            buffer['design_masking'].append(study['Study']['ProtocolSection']['DesignModule']['DesignInfo']['DesignMaskingInfo']['DesignMasking'])\n",
    "        except KeyError as e:\n",
    "            buffer['design_masking'].append('NA')\n",
    "\n",
    "        try:\n",
    "            buffer['design_time_perspective'].append(study['Study']['ProtocolSection']['DesignModule']['DesignInfo']['DesignTimePerspectiveList']['DesignTimePerspective'])\n",
    "        except KeyError as e:\n",
    "            buffer['design_time_perspective'].append('NA')\n",
    "            \n",
    "        try:\n",
    "            buffer['who_masked'].append(study['Study']['ProtocolSection']['DesignModule']['DesignInfo']['DesignMaskingInfo']['DesignWhoMaskedList']['DesignWhoMasked'])\n",
    "        except KeyError as e:\n",
    "            buffer['who_masked'].append('NA')\n",
    "                        \n",
    "        try:\n",
    "            buffer['observational_model'].append(study['Study']['ProtocolSection']['DesignModule']['DesignInfo']['DesignInterventionModel'])\n",
    "        except KeyError as e:\n",
    "            buffer['observational_model'].append('NA')\n",
    "                                    \n",
    "        try:\n",
    "            buffer['masking_description'].append(study['Study']['ProtocolSection']['DesignModule']['DesignInfo']['DesignMaskingInfo']['DesignMaskingDescription'])\n",
    "        except KeyError as e:\n",
    "            buffer['masking_description'].append('NA')\n",
    "                                    \n",
    "        try:\n",
    "            buffer['model_description'].append(study['Study']['ProtocolSection']['DesignModule']['DesignInfo']['DesignInterventionModelDescription'])\n",
    "        except KeyError as e:\n",
    "            buffer['model_description'].append('NA')\n",
    "            \n",
    "            \n",
    "    return pd.DataFrame.from_dict(buffer).reset_index(drop=True)\n"
   ]
  },
  {
   "cell_type": "code",
   "execution_count": 62,
   "id": "41e7fc46",
   "metadata": {},
   "outputs": [],
   "source": [
    "def create_studies_table() -> pd.DataFrame:\n",
    "    studies_table_dfs = []\n",
    "    directory = DATA_PATH + '/clinical_trials/'\n",
    "    for studies_data_pickle_file in tqdm(os.listdir(directory)):\n",
    "        studies_file = os.path.join(directory, studies_data_pickle_file)\n",
    "        with open(studies_file, 'rb') as f:\n",
    "            studies_data = pickle.load(f)\n",
    "            studies_table_df = create_studies_table_helper(studies=studies_data)\n",
    "            studies_table_dfs.append(studies_table_df)\n",
    "\n",
    "    studies_table = pd.concat(studies_table_dfs).reset_index(drop=True)\n",
    "    return studies_table\n"
   ]
  },
  {
   "cell_type": "code",
   "execution_count": 63,
   "id": "db1f308c",
   "metadata": {},
   "outputs": [
    {
     "name": "stderr",
     "output_type": "stream",
     "text": [
      "100%|██████████████████████████████████████████████████████████████████████████████████████████████████████████| 87/87 [03:29<00:00,  2.40s/it]\n"
     ]
    }
   ],
   "source": [
    "studies_table = create_studies_table()"
   ]
  },
  {
   "cell_type": "code",
   "execution_count": 78,
   "id": "7a6cbd8a",
   "metadata": {},
   "outputs": [
    {
     "data": {
      "text/plain": [
       "[]                                                               296947\n",
       "[PARTICIPANT, CARE_PROVIDER, INVESTIGATOR, OUTCOMES_ASSESSOR]     31191\n",
       "[PARTICIPANT, INVESTIGATOR]                                       22794\n",
       "[OUTCOMES_ASSESSOR]                                               20375\n",
       "[PARTICIPANT]                                                     18052\n",
       "[PARTICIPANT, CARE_PROVIDER, INVESTIGATOR]                         9585\n",
       "[PARTICIPANT, INVESTIGATOR, OUTCOMES_ASSESSOR]                     9314\n",
       "[PARTICIPANT, OUTCOMES_ASSESSOR]                                   8702\n",
       "[INVESTIGATOR]                                                     5522\n",
       "[INVESTIGATOR, OUTCOMES_ASSESSOR]                                  4069\n",
       "[PARTICIPANT, CARE_PROVIDER]                                       3044\n",
       "[PARTICIPANT, CARE_PROVIDER, OUTCOMES_ASSESSOR]                    2616\n",
       "[CARE_PROVIDER]                                                    1019\n",
       "[CARE_PROVIDER, INVESTIGATOR, OUTCOMES_ASSESSOR]                    734\n",
       "[CARE_PROVIDER, OUTCOMES_ASSESSOR]                                  651\n",
       "[CARE_PROVIDER, INVESTIGATOR]                                       385\n",
       "Name: who_masked, dtype: int64"
      ]
     },
     "execution_count": 78,
     "metadata": {},
     "output_type": "execute_result"
    }
   ],
   "source": [
    "studies_table['who_masked'].apply(lambda x: [y.upper().replace(' ', '_') for y in x if x != 'NA']).value_counts()"
   ]
  },
  {
   "cell_type": "code",
   "execution_count": null,
   "id": "3f4901e7",
   "metadata": {},
   "outputs": [],
   "source": [
    "studies_table[]"
   ]
  },
  {
   "cell_type": "code",
   "execution_count": 64,
   "id": "ae4f1830",
   "metadata": {},
   "outputs": [
    {
     "data": {
      "text/html": [
       "<div>\n",
       "<style scoped>\n",
       "    .dataframe tbody tr th:only-of-type {\n",
       "        vertical-align: middle;\n",
       "    }\n",
       "\n",
       "    .dataframe tbody tr th {\n",
       "        vertical-align: top;\n",
       "    }\n",
       "\n",
       "    .dataframe thead th {\n",
       "        text-align: right;\n",
       "    }\n",
       "</style>\n",
       "<table border=\"1\" class=\"dataframe\">\n",
       "  <thead>\n",
       "    <tr style=\"text-align: right;\">\n",
       "      <th></th>\n",
       "      <th>nct_id</th>\n",
       "      <th>official_title</th>\n",
       "      <th>short_title</th>\n",
       "      <th>conditions</th>\n",
       "      <th>verified_date</th>\n",
       "      <th>responsible_party</th>\n",
       "      <th>sponsor</th>\n",
       "      <th>phase</th>\n",
       "      <th>type</th>\n",
       "      <th>description</th>\n",
       "      <th>...</th>\n",
       "      <th>completion_date_type</th>\n",
       "      <th>status</th>\n",
       "      <th>stopped_reason</th>\n",
       "      <th>design_allocation</th>\n",
       "      <th>design_masking</th>\n",
       "      <th>design_time_perspective</th>\n",
       "      <th>who_masked</th>\n",
       "      <th>observational_model</th>\n",
       "      <th>masking_description</th>\n",
       "      <th>model_description</th>\n",
       "    </tr>\n",
       "  </thead>\n",
       "  <tbody>\n",
       "    <tr>\n",
       "      <th>0</th>\n",
       "      <td>NCT00633971</td>\n",
       "      <td>A Randomized Trial to Determine the Impact of ...</td>\n",
       "      <td>Treatment Trial for Post-Thrombotic Syndrome</td>\n",
       "      <td>[Post Thrombotic Syndrome]</td>\n",
       "      <td>September 2020</td>\n",
       "      <td>Chris Holmes</td>\n",
       "      <td>University of Vermont</td>\n",
       "      <td>NA</td>\n",
       "      <td>Interventional</td>\n",
       "      <td>The purpose of this study is to determine if c...</td>\n",
       "      <td>...</td>\n",
       "      <td>Actual</td>\n",
       "      <td>Completed</td>\n",
       "      <td>NA</td>\n",
       "      <td>Randomized</td>\n",
       "      <td>Single</td>\n",
       "      <td>NA</td>\n",
       "      <td>[Outcomes Assessor]</td>\n",
       "      <td>Parallel Assignment</td>\n",
       "      <td>NA</td>\n",
       "      <td>NA</td>\n",
       "    </tr>\n",
       "    <tr>\n",
       "      <th>1</th>\n",
       "      <td>NCT00631761</td>\n",
       "      <td>Standardized Criteria to Judge Diagnostic Uret...</td>\n",
       "      <td>Standardized Criteria to Judge Diagnostic Uret...</td>\n",
       "      <td>[Urethrocystoscopy Skills]</td>\n",
       "      <td>August 2008</td>\n",
       "      <td>NA</td>\n",
       "      <td>University of Cincinnati</td>\n",
       "      <td>NA</td>\n",
       "      <td>Interventional</td>\n",
       "      <td>Develop a tool to objectively quantify technic...</td>\n",
       "      <td>...</td>\n",
       "      <td>Actual</td>\n",
       "      <td>Completed</td>\n",
       "      <td>NA</td>\n",
       "      <td>Randomized</td>\n",
       "      <td>None (Open Label)</td>\n",
       "      <td>NA</td>\n",
       "      <td>NA</td>\n",
       "      <td>Single Group Assignment</td>\n",
       "      <td>NA</td>\n",
       "      <td>NA</td>\n",
       "    </tr>\n",
       "    <tr>\n",
       "      <th>2</th>\n",
       "      <td>NCT00636948</td>\n",
       "      <td>Rectal Cancer Trial On Defunctioning Stoma</td>\n",
       "      <td>Rectal Cancer Trial On Defunctioning Stoma</td>\n",
       "      <td>[Rectal Cancer]</td>\n",
       "      <td>March 2008</td>\n",
       "      <td>NA</td>\n",
       "      <td>Rectal Cancer Trial on Defunctioning Stoma Stu...</td>\n",
       "      <td>NA</td>\n",
       "      <td>Observational</td>\n",
       "      <td>The hypothesis of the present trial was that t...</td>\n",
       "      <td>...</td>\n",
       "      <td>Actual</td>\n",
       "      <td>Completed</td>\n",
       "      <td>NA</td>\n",
       "      <td>NA</td>\n",
       "      <td>NA</td>\n",
       "      <td>[Prospective]</td>\n",
       "      <td>NA</td>\n",
       "      <td>NA</td>\n",
       "      <td>NA</td>\n",
       "      <td>NA</td>\n",
       "    </tr>\n",
       "    <tr>\n",
       "      <th>3</th>\n",
       "      <td>NCT00632008</td>\n",
       "      <td>A Randomised, Double-blind, Placebo-controlled...</td>\n",
       "      <td>Soluble Beta-glucan (SBG) as Treatment for Dia...</td>\n",
       "      <td>[Chronic Diabetic Foot Ulcers]</td>\n",
       "      <td>January 2010</td>\n",
       "      <td>NA</td>\n",
       "      <td>Biotec Pharmacon ASA</td>\n",
       "      <td>Phase 3</td>\n",
       "      <td>Interventional</td>\n",
       "      <td>The purpose of this study is to determine whet...</td>\n",
       "      <td>...</td>\n",
       "      <td>Actual</td>\n",
       "      <td>Completed</td>\n",
       "      <td>NA</td>\n",
       "      <td>Randomized</td>\n",
       "      <td>Quadruple</td>\n",
       "      <td>NA</td>\n",
       "      <td>[Participant, Care Provider, Investigator, Out...</td>\n",
       "      <td>Parallel Assignment</td>\n",
       "      <td>NA</td>\n",
       "      <td>NA</td>\n",
       "    </tr>\n",
       "    <tr>\n",
       "      <th>4</th>\n",
       "      <td>NCT00634426</td>\n",
       "      <td>Surgical Versus Nonoperative Treatment of Meta...</td>\n",
       "      <td>Surgical Versus Nonoperative Treatment of Meta...</td>\n",
       "      <td>[Metastatic Epidural Spinal Cord Compression]</td>\n",
       "      <td>March 2015</td>\n",
       "      <td>NA</td>\n",
       "      <td>AOSpine North America Research Network</td>\n",
       "      <td>NA</td>\n",
       "      <td>Observational</td>\n",
       "      <td>The aim of this trial is to evaluate the diffe...</td>\n",
       "      <td>...</td>\n",
       "      <td>Actual</td>\n",
       "      <td>Completed</td>\n",
       "      <td>NA</td>\n",
       "      <td>NA</td>\n",
       "      <td>NA</td>\n",
       "      <td>[Prospective]</td>\n",
       "      <td>NA</td>\n",
       "      <td>NA</td>\n",
       "      <td>NA</td>\n",
       "      <td>NA</td>\n",
       "    </tr>\n",
       "  </tbody>\n",
       "</table>\n",
       "<p>5 rows × 29 columns</p>\n",
       "</div>"
      ],
      "text/plain": [
       "        nct_id                                     official_title  \\\n",
       "0  NCT00633971  A Randomized Trial to Determine the Impact of ...   \n",
       "1  NCT00631761  Standardized Criteria to Judge Diagnostic Uret...   \n",
       "2  NCT00636948         Rectal Cancer Trial On Defunctioning Stoma   \n",
       "3  NCT00632008  A Randomised, Double-blind, Placebo-controlled...   \n",
       "4  NCT00634426  Surgical Versus Nonoperative Treatment of Meta...   \n",
       "\n",
       "                                         short_title  \\\n",
       "0       Treatment Trial for Post-Thrombotic Syndrome   \n",
       "1  Standardized Criteria to Judge Diagnostic Uret...   \n",
       "2         Rectal Cancer Trial On Defunctioning Stoma   \n",
       "3  Soluble Beta-glucan (SBG) as Treatment for Dia...   \n",
       "4  Surgical Versus Nonoperative Treatment of Meta...   \n",
       "\n",
       "                                      conditions   verified_date  \\\n",
       "0                     [Post Thrombotic Syndrome]  September 2020   \n",
       "1                     [Urethrocystoscopy Skills]     August 2008   \n",
       "2                                [Rectal Cancer]      March 2008   \n",
       "3                 [Chronic Diabetic Foot Ulcers]    January 2010   \n",
       "4  [Metastatic Epidural Spinal Cord Compression]      March 2015   \n",
       "\n",
       "  responsible_party                                            sponsor  \\\n",
       "0      Chris Holmes                              University of Vermont   \n",
       "1                NA                           University of Cincinnati   \n",
       "2                NA  Rectal Cancer Trial on Defunctioning Stoma Stu...   \n",
       "3                NA                               Biotec Pharmacon ASA   \n",
       "4                NA             AOSpine North America Research Network   \n",
       "\n",
       "     phase            type                                        description  \\\n",
       "0       NA  Interventional  The purpose of this study is to determine if c...   \n",
       "1       NA  Interventional  Develop a tool to objectively quantify technic...   \n",
       "2       NA   Observational  The hypothesis of the present trial was that t...   \n",
       "3  Phase 3  Interventional  The purpose of this study is to determine whet...   \n",
       "4       NA   Observational  The aim of this trial is to evaluate the diffe...   \n",
       "\n",
       "   ... completion_date_type     status stopped_reason design_allocation  \\\n",
       "0  ...               Actual  Completed             NA        Randomized   \n",
       "1  ...               Actual  Completed             NA        Randomized   \n",
       "2  ...               Actual  Completed             NA                NA   \n",
       "3  ...               Actual  Completed             NA        Randomized   \n",
       "4  ...               Actual  Completed             NA                NA   \n",
       "\n",
       "      design_masking design_time_perspective  \\\n",
       "0             Single                      NA   \n",
       "1  None (Open Label)                      NA   \n",
       "2                 NA           [Prospective]   \n",
       "3          Quadruple                      NA   \n",
       "4                 NA           [Prospective]   \n",
       "\n",
       "                                          who_masked      observational_model  \\\n",
       "0                                [Outcomes Assessor]      Parallel Assignment   \n",
       "1                                                 NA  Single Group Assignment   \n",
       "2                                                 NA                       NA   \n",
       "3  [Participant, Care Provider, Investigator, Out...      Parallel Assignment   \n",
       "4                                                 NA                       NA   \n",
       "\n",
       "  masking_description model_description  \n",
       "0                  NA                NA  \n",
       "1                  NA                NA  \n",
       "2                  NA                NA  \n",
       "3                  NA                NA  \n",
       "4                  NA                NA  \n",
       "\n",
       "[5 rows x 29 columns]"
      ]
     },
     "execution_count": 64,
     "metadata": {},
     "output_type": "execute_result"
    }
   ],
   "source": [
    "studies_table.head()"
   ]
  },
  {
   "cell_type": "code",
   "execution_count": 70,
   "id": "4bdb4f7f",
   "metadata": {},
   "outputs": [
    {
     "data": {
      "text/plain": [
       "RANDOMIZED       218804\n",
       "NA               179419\n",
       "NONRANDOMIZED     36777\n",
       "Name: design_allocation, dtype: int64"
      ]
     },
     "execution_count": 70,
     "metadata": {},
     "output_type": "execute_result"
    }
   ],
   "source": [
    "studies_table['design_allocation'].str.upper().str.replace(' ','_').str.replace('/','').str.replace('-','').value_counts()\n"
   ]
  },
  {
   "cell_type": "code",
   "execution_count": 72,
   "id": "b5091596",
   "metadata": {},
   "outputs": [
    {
     "data": {
      "text/plain": [
       "NONE         185373\n",
       "NA           104174\n",
       "SINGLE        46240\n",
       "DOUBLE        45773\n",
       "QUADRUPLE     31191\n",
       "TRIPLE        22249\n",
       "Name: design_masking, dtype: int64"
      ]
     },
     "execution_count": 72,
     "metadata": {},
     "output_type": "execute_result"
    }
   ],
   "source": [
    "studies_table['design_masking'].apply(lambda x: 'None' if x == 'None (Open Label)' else x ).str.upper().str.replace(' ','_').value_counts()"
   ]
  },
  {
   "cell_type": "code",
   "execution_count": 73,
   "id": "6ed032a4",
   "metadata": {},
   "outputs": [
    {
     "data": {
      "text/plain": [
       "NA    340740\n",
       "Name: design_time_perspective, dtype: int64"
      ]
     },
     "execution_count": 73,
     "metadata": {},
     "output_type": "execute_result"
    }
   ],
   "source": [
    "studies_table['design_time_perspective'].str.upper().str.replace(' ', '_').value_counts()"
   ]
  },
  {
   "cell_type": "code",
   "execution_count": null,
   "id": "e482108c",
   "metadata": {},
   "outputs": [],
   "source": [
    "studies_table['design_time_perspective'].str.upper().str.replace(' ', '_').value_counts()"
   ]
  },
  {
   "cell_type": "code",
   "execution_count": 67,
   "id": "cd22be22",
   "metadata": {},
   "outputs": [
    {
     "data": {
      "text/html": [
       "<div>\n",
       "<style scoped>\n",
       "    .dataframe tbody tr th:only-of-type {\n",
       "        vertical-align: middle;\n",
       "    }\n",
       "\n",
       "    .dataframe tbody tr th {\n",
       "        vertical-align: top;\n",
       "    }\n",
       "\n",
       "    .dataframe thead th {\n",
       "        text-align: right;\n",
       "    }\n",
       "</style>\n",
       "<table border=\"1\" class=\"dataframe\">\n",
       "  <thead>\n",
       "    <tr style=\"text-align: right;\">\n",
       "      <th></th>\n",
       "      <th>nct_id</th>\n",
       "      <th>official_title</th>\n",
       "      <th>short_title</th>\n",
       "      <th>conditions</th>\n",
       "      <th>verified_date</th>\n",
       "      <th>responsible_party</th>\n",
       "      <th>sponsor</th>\n",
       "      <th>phase</th>\n",
       "      <th>type</th>\n",
       "      <th>description</th>\n",
       "      <th>...</th>\n",
       "      <th>completion_date_type</th>\n",
       "      <th>status</th>\n",
       "      <th>stopped_reason</th>\n",
       "      <th>design_allocation</th>\n",
       "      <th>design_masking</th>\n",
       "      <th>design_time_perspective</th>\n",
       "      <th>who_masked</th>\n",
       "      <th>observational_model</th>\n",
       "      <th>masking_description</th>\n",
       "      <th>model_description</th>\n",
       "    </tr>\n",
       "  </thead>\n",
       "  <tbody>\n",
       "    <tr>\n",
       "      <th>101</th>\n",
       "      <td>NCT00634283</td>\n",
       "      <td>Physiologic Monitoring of Antidepressant Medic...</td>\n",
       "      <td>Study of the Effects of an Antidepressant Medi...</td>\n",
       "      <td>[Depression]</td>\n",
       "      <td>February 2020</td>\n",
       "      <td>Andrew F. Leuchter</td>\n",
       "      <td>University of California, Los Angeles</td>\n",
       "      <td>Phase 4</td>\n",
       "      <td>Interventional</td>\n",
       "      <td>This study examines the effects of an antidepr...</td>\n",
       "      <td>...</td>\n",
       "      <td>Actual</td>\n",
       "      <td>Completed</td>\n",
       "      <td>NA</td>\n",
       "      <td>Randomized</td>\n",
       "      <td>Triple</td>\n",
       "      <td>NA</td>\n",
       "      <td>[Participant, Care Provider, Outcomes Assessor]</td>\n",
       "      <td>Parallel Assignment</td>\n",
       "      <td>We compared EEG outcomes for those subjects wh...</td>\n",
       "      <td>Subjects are assigned to one of two groups (an...</td>\n",
       "    </tr>\n",
       "    <tr>\n",
       "      <th>136</th>\n",
       "      <td>NCT00635518</td>\n",
       "      <td>Randomized Controlled Trial of Dietary Advice ...</td>\n",
       "      <td>Randomized Controlled Trial of Dietary Advice ...</td>\n",
       "      <td>[Breast Feeding]</td>\n",
       "      <td>August 2021</td>\n",
       "      <td>Marcia Regina Vitolo</td>\n",
       "      <td>Federal University of Health Science of Porto ...</td>\n",
       "      <td>NA</td>\n",
       "      <td>Interventional</td>\n",
       "      <td>A cluster randomized field trial to evaluate t...</td>\n",
       "      <td>...</td>\n",
       "      <td>Actual</td>\n",
       "      <td>Withdrawn</td>\n",
       "      <td>Funding was canceled and no resources are avai...</td>\n",
       "      <td>N/A</td>\n",
       "      <td>None (Open Label)</td>\n",
       "      <td>NA</td>\n",
       "      <td>NA</td>\n",
       "      <td>Single Group Assignment</td>\n",
       "      <td>NA</td>\n",
       "      <td>Study Withdrawn</td>\n",
       "    </tr>\n",
       "    <tr>\n",
       "      <th>684</th>\n",
       "      <td>NCT00776087</td>\n",
       "      <td>European Health Economic Trial on Home Monitor...</td>\n",
       "      <td>European Health Economic Trial on Home Monitor...</td>\n",
       "      <td>[Ventricular Fibrillation, Tachycardia, Ventri...</td>\n",
       "      <td>June 2017</td>\n",
       "      <td>NA</td>\n",
       "      <td>Biotronik SE &amp; Co. KG</td>\n",
       "      <td>NA</td>\n",
       "      <td>Interventional</td>\n",
       "      <td>BIOTRONIK Home Monitoring (HM) service enables...</td>\n",
       "      <td>...</td>\n",
       "      <td>Actual</td>\n",
       "      <td>Terminated</td>\n",
       "      <td>it is unethical to continue a study with deact...</td>\n",
       "      <td>Randomized</td>\n",
       "      <td>None (Open Label)</td>\n",
       "      <td>NA</td>\n",
       "      <td>NA</td>\n",
       "      <td>Parallel Assignment</td>\n",
       "      <td>HM ON vs. HM OFF</td>\n",
       "      <td>Randomized prospective multicenter internation...</td>\n",
       "    </tr>\n",
       "    <tr>\n",
       "      <th>945</th>\n",
       "      <td>NCT00775476</td>\n",
       "      <td>Treatment of Systemic Lupus Erythematosus (SLE...</td>\n",
       "      <td>Treatment of Systemic Lupus Erythematosus (SLE...</td>\n",
       "      <td>[Systemic Lupus Erythematosus]</td>\n",
       "      <td>June 2022</td>\n",
       "      <td>NA</td>\n",
       "      <td>State University of New York - Upstate Medical...</td>\n",
       "      <td>Phase 2</td>\n",
       "      <td>Interventional</td>\n",
       "      <td>Systemic lupus erythematosus (SLE) is a chroni...</td>\n",
       "      <td>...</td>\n",
       "      <td>Anticipated</td>\n",
       "      <td>Recruiting</td>\n",
       "      <td>NA</td>\n",
       "      <td>Randomized</td>\n",
       "      <td>Quadruple</td>\n",
       "      <td>NA</td>\n",
       "      <td>[Participant, Care Provider, Investigator, Out...</td>\n",
       "      <td>Parallel Assignment</td>\n",
       "      <td>NA</td>\n",
       "      <td>This study will titrate to tolerance during an...</td>\n",
       "    </tr>\n",
       "    <tr>\n",
       "      <th>1113</th>\n",
       "      <td>NCT00772824</td>\n",
       "      <td>Study of the Effect of Glutamine Supplementati...</td>\n",
       "      <td>Study of the Effect of Glutamine Supplementati...</td>\n",
       "      <td>[Breast Cancer]</td>\n",
       "      <td>July 2018</td>\n",
       "      <td>Manoj Pandey</td>\n",
       "      <td>Banaras Hindu University</td>\n",
       "      <td>Phase 4</td>\n",
       "      <td>Interventional</td>\n",
       "      <td>Glutamine, a non essential branched chain amin...</td>\n",
       "      <td>...</td>\n",
       "      <td>Actual</td>\n",
       "      <td>Completed</td>\n",
       "      <td>NA</td>\n",
       "      <td>Randomized</td>\n",
       "      <td>Single</td>\n",
       "      <td>NA</td>\n",
       "      <td>[Participant]</td>\n",
       "      <td>Parallel Assignment</td>\n",
       "      <td>NA</td>\n",
       "      <td>Case Control</td>\n",
       "    </tr>\n",
       "    <tr>\n",
       "      <th>...</th>\n",
       "      <td>...</td>\n",
       "      <td>...</td>\n",
       "      <td>...</td>\n",
       "      <td>...</td>\n",
       "      <td>...</td>\n",
       "      <td>...</td>\n",
       "      <td>...</td>\n",
       "      <td>...</td>\n",
       "      <td>...</td>\n",
       "      <td>...</td>\n",
       "      <td>...</td>\n",
       "      <td>...</td>\n",
       "      <td>...</td>\n",
       "      <td>...</td>\n",
       "      <td>...</td>\n",
       "      <td>...</td>\n",
       "      <td>...</td>\n",
       "      <td>...</td>\n",
       "      <td>...</td>\n",
       "      <td>...</td>\n",
       "      <td>...</td>\n",
       "    </tr>\n",
       "    <tr>\n",
       "      <th>434925</th>\n",
       "      <td>NCT05169385</td>\n",
       "      <td>Improving Outcomes of Adolescents in Residenti...</td>\n",
       "      <td>Parent SMART (Substance Misuse in Adolescents ...</td>\n",
       "      <td>[Substance Use, Adolescent Behavior]</td>\n",
       "      <td>July 2022</td>\n",
       "      <td>NA</td>\n",
       "      <td>Brown University</td>\n",
       "      <td>NA</td>\n",
       "      <td>Interventional</td>\n",
       "      <td>Adolescents in residential substance use treat...</td>\n",
       "      <td>...</td>\n",
       "      <td>Anticipated</td>\n",
       "      <td>Recruiting</td>\n",
       "      <td>NA</td>\n",
       "      <td>Randomized</td>\n",
       "      <td>Single</td>\n",
       "      <td>NA</td>\n",
       "      <td>[Outcomes Assessor]</td>\n",
       "      <td>Parallel Assignment</td>\n",
       "      <td>Outcomes assessors will be masked to study con...</td>\n",
       "      <td>Effectiveness Trial</td>\n",
       "    </tr>\n",
       "    <tr>\n",
       "      <th>434930</th>\n",
       "      <td>NCT05168150</td>\n",
       "      <td>Testing the Efficacy of an Artificial Intellig...</td>\n",
       "      <td>Testing the Efficacy of an Artificial Intellig...</td>\n",
       "      <td>[Surgical Education]</td>\n",
       "      <td>August 2022</td>\n",
       "      <td>Rolando Del Maestro</td>\n",
       "      <td>McGill University</td>\n",
       "      <td>NA</td>\n",
       "      <td>Interventional</td>\n",
       "      <td>Background:\\n\\nTrainees learn surgical technic...</td>\n",
       "      <td>...</td>\n",
       "      <td>Actual</td>\n",
       "      <td>Completed</td>\n",
       "      <td>NA</td>\n",
       "      <td>Randomized</td>\n",
       "      <td>Double</td>\n",
       "      <td>NA</td>\n",
       "      <td>[Participant, Outcomes Assessor]</td>\n",
       "      <td>Parallel Assignment</td>\n",
       "      <td>Double (Participant and Expert Rater)\\n\\nParti...</td>\n",
       "      <td>Randomized Control trial</td>\n",
       "    </tr>\n",
       "    <tr>\n",
       "      <th>434939</th>\n",
       "      <td>NCT05167708</td>\n",
       "      <td>The Effect of Single and Repeated Micro-osteop...</td>\n",
       "      <td>Effects of Micro-osteoperforation on the Maxil...</td>\n",
       "      <td>[Accretions; Teeth]</td>\n",
       "      <td>December 2021</td>\n",
       "      <td>Alaa alkasaby</td>\n",
       "      <td>Mansoura University</td>\n",
       "      <td>NA</td>\n",
       "      <td>Interventional</td>\n",
       "      <td>the study aimed to evaluate the effect of diff...</td>\n",
       "      <td>...</td>\n",
       "      <td>Actual</td>\n",
       "      <td>Completed</td>\n",
       "      <td>NA</td>\n",
       "      <td>Randomized</td>\n",
       "      <td>Single</td>\n",
       "      <td>NA</td>\n",
       "      <td>[Outcomes Assessor]</td>\n",
       "      <td>Parallel Assignment</td>\n",
       "      <td>single blinded, the assessor of the out comes ...</td>\n",
       "      <td>single-center, prospective, single blinded, wi...</td>\n",
       "    </tr>\n",
       "    <tr>\n",
       "      <th>434949</th>\n",
       "      <td>NCT02702271</td>\n",
       "      <td>Protection Against Embolism for Non-valvular A...</td>\n",
       "      <td>Investigational Device Evaluation of the WATCH...</td>\n",
       "      <td>[Atrial Fibrillation]</td>\n",
       "      <td>May 2022</td>\n",
       "      <td>NA</td>\n",
       "      <td>Boston Scientific Corporation</td>\n",
       "      <td>NA</td>\n",
       "      <td>Interventional</td>\n",
       "      <td>The study is a prospective, non-randomized, mu...</td>\n",
       "      <td>...</td>\n",
       "      <td>Actual</td>\n",
       "      <td>Completed</td>\n",
       "      <td>NA</td>\n",
       "      <td>Non-Randomized</td>\n",
       "      <td>None (Open Label)</td>\n",
       "      <td>NA</td>\n",
       "      <td>NA</td>\n",
       "      <td>Sequential Assignment</td>\n",
       "      <td>NA</td>\n",
       "      <td>A total of 400 main cohort subjects and 58 rol...</td>\n",
       "    </tr>\n",
       "    <tr>\n",
       "      <th>434991</th>\n",
       "      <td>NCT02704624</td>\n",
       "      <td>The Impact of Serum Vitamin D and Calcium Leve...</td>\n",
       "      <td>Effects of Supplementation of Vitamin D in Pat...</td>\n",
       "      <td>[Crohn Disease, Vitamin D Deficiency, Fatigue,...</td>\n",
       "      <td>April 2018</td>\n",
       "      <td>Lorena Nagme de Oliveira Pinto</td>\n",
       "      <td>Federal University of Juiz de Fora</td>\n",
       "      <td>Phase 4</td>\n",
       "      <td>Interventional</td>\n",
       "      <td>Thus, the aim of the current study is to asses...</td>\n",
       "      <td>...</td>\n",
       "      <td>Anticipated</td>\n",
       "      <td>Unknown status</td>\n",
       "      <td>NA</td>\n",
       "      <td>Randomized</td>\n",
       "      <td>Quadruple</td>\n",
       "      <td>NA</td>\n",
       "      <td>[Participant, Care Provider, Investigator, Out...</td>\n",
       "      <td>Parallel Assignment</td>\n",
       "      <td>Only the pharmacist responsible for confection...</td>\n",
       "      <td>A double-blind, randomized, placebo-controlled...</td>\n",
       "    </tr>\n",
       "  </tbody>\n",
       "</table>\n",
       "<p>50682 rows × 29 columns</p>\n",
       "</div>"
      ],
      "text/plain": [
       "             nct_id                                     official_title  \\\n",
       "101     NCT00634283  Physiologic Monitoring of Antidepressant Medic...   \n",
       "136     NCT00635518  Randomized Controlled Trial of Dietary Advice ...   \n",
       "684     NCT00776087  European Health Economic Trial on Home Monitor...   \n",
       "945     NCT00775476  Treatment of Systemic Lupus Erythematosus (SLE...   \n",
       "1113    NCT00772824  Study of the Effect of Glutamine Supplementati...   \n",
       "...             ...                                                ...   \n",
       "434925  NCT05169385  Improving Outcomes of Adolescents in Residenti...   \n",
       "434930  NCT05168150  Testing the Efficacy of an Artificial Intellig...   \n",
       "434939  NCT05167708  The Effect of Single and Repeated Micro-osteop...   \n",
       "434949  NCT02702271  Protection Against Embolism for Non-valvular A...   \n",
       "434991  NCT02704624  The Impact of Serum Vitamin D and Calcium Leve...   \n",
       "\n",
       "                                              short_title  \\\n",
       "101     Study of the Effects of an Antidepressant Medi...   \n",
       "136     Randomized Controlled Trial of Dietary Advice ...   \n",
       "684     European Health Economic Trial on Home Monitor...   \n",
       "945     Treatment of Systemic Lupus Erythematosus (SLE...   \n",
       "1113    Study of the Effect of Glutamine Supplementati...   \n",
       "...                                                   ...   \n",
       "434925  Parent SMART (Substance Misuse in Adolescents ...   \n",
       "434930  Testing the Efficacy of an Artificial Intellig...   \n",
       "434939  Effects of Micro-osteoperforation on the Maxil...   \n",
       "434949  Investigational Device Evaluation of the WATCH...   \n",
       "434991  Effects of Supplementation of Vitamin D in Pat...   \n",
       "\n",
       "                                               conditions  verified_date  \\\n",
       "101                                          [Depression]  February 2020   \n",
       "136                                      [Breast Feeding]    August 2021   \n",
       "684     [Ventricular Fibrillation, Tachycardia, Ventri...      June 2017   \n",
       "945                        [Systemic Lupus Erythematosus]      June 2022   \n",
       "1113                                      [Breast Cancer]      July 2018   \n",
       "...                                                   ...            ...   \n",
       "434925               [Substance Use, Adolescent Behavior]      July 2022   \n",
       "434930                               [Surgical Education]    August 2022   \n",
       "434939                                [Accretions; Teeth]  December 2021   \n",
       "434949                              [Atrial Fibrillation]       May 2022   \n",
       "434991  [Crohn Disease, Vitamin D Deficiency, Fatigue,...     April 2018   \n",
       "\n",
       "                     responsible_party  \\\n",
       "101                 Andrew F. Leuchter   \n",
       "136               Marcia Regina Vitolo   \n",
       "684                                 NA   \n",
       "945                                 NA   \n",
       "1113                      Manoj Pandey   \n",
       "...                                ...   \n",
       "434925                              NA   \n",
       "434930             Rolando Del Maestro   \n",
       "434939                   Alaa alkasaby   \n",
       "434949                              NA   \n",
       "434991  Lorena Nagme de Oliveira Pinto   \n",
       "\n",
       "                                                  sponsor    phase  \\\n",
       "101                 University of California, Los Angeles  Phase 4   \n",
       "136     Federal University of Health Science of Porto ...       NA   \n",
       "684                                 Biotronik SE & Co. KG       NA   \n",
       "945     State University of New York - Upstate Medical...  Phase 2   \n",
       "1113                             Banaras Hindu University  Phase 4   \n",
       "...                                                   ...      ...   \n",
       "434925                                   Brown University       NA   \n",
       "434930                                  McGill University       NA   \n",
       "434939                                Mansoura University       NA   \n",
       "434949                      Boston Scientific Corporation       NA   \n",
       "434991                 Federal University of Juiz de Fora  Phase 4   \n",
       "\n",
       "                  type                                        description  \\\n",
       "101     Interventional  This study examines the effects of an antidepr...   \n",
       "136     Interventional  A cluster randomized field trial to evaluate t...   \n",
       "684     Interventional  BIOTRONIK Home Monitoring (HM) service enables...   \n",
       "945     Interventional  Systemic lupus erythematosus (SLE) is a chroni...   \n",
       "1113    Interventional  Glutamine, a non essential branched chain amin...   \n",
       "...                ...                                                ...   \n",
       "434925  Interventional  Adolescents in residential substance use treat...   \n",
       "434930  Interventional  Background:\\n\\nTrainees learn surgical technic...   \n",
       "434939  Interventional  the study aimed to evaluate the effect of diff...   \n",
       "434949  Interventional  The study is a prospective, non-randomized, mu...   \n",
       "434991  Interventional  Thus, the aim of the current study is to asses...   \n",
       "\n",
       "        ... completion_date_type          status  \\\n",
       "101     ...               Actual       Completed   \n",
       "136     ...               Actual       Withdrawn   \n",
       "684     ...               Actual      Terminated   \n",
       "945     ...          Anticipated      Recruiting   \n",
       "1113    ...               Actual       Completed   \n",
       "...     ...                  ...             ...   \n",
       "434925  ...          Anticipated      Recruiting   \n",
       "434930  ...               Actual       Completed   \n",
       "434939  ...               Actual       Completed   \n",
       "434949  ...               Actual       Completed   \n",
       "434991  ...          Anticipated  Unknown status   \n",
       "\n",
       "                                           stopped_reason design_allocation  \\\n",
       "101                                                    NA        Randomized   \n",
       "136     Funding was canceled and no resources are avai...               N/A   \n",
       "684     it is unethical to continue a study with deact...        Randomized   \n",
       "945                                                    NA        Randomized   \n",
       "1113                                                   NA        Randomized   \n",
       "...                                                   ...               ...   \n",
       "434925                                                 NA        Randomized   \n",
       "434930                                                 NA        Randomized   \n",
       "434939                                                 NA        Randomized   \n",
       "434949                                                 NA    Non-Randomized   \n",
       "434991                                                 NA        Randomized   \n",
       "\n",
       "           design_masking design_time_perspective  \\\n",
       "101                Triple                      NA   \n",
       "136     None (Open Label)                      NA   \n",
       "684     None (Open Label)                      NA   \n",
       "945             Quadruple                      NA   \n",
       "1113               Single                      NA   \n",
       "...                   ...                     ...   \n",
       "434925             Single                      NA   \n",
       "434930             Double                      NA   \n",
       "434939             Single                      NA   \n",
       "434949  None (Open Label)                      NA   \n",
       "434991          Quadruple                      NA   \n",
       "\n",
       "                                               who_masked  \\\n",
       "101       [Participant, Care Provider, Outcomes Assessor]   \n",
       "136                                                    NA   \n",
       "684                                                    NA   \n",
       "945     [Participant, Care Provider, Investigator, Out...   \n",
       "1113                                        [Participant]   \n",
       "...                                                   ...   \n",
       "434925                                [Outcomes Assessor]   \n",
       "434930                   [Participant, Outcomes Assessor]   \n",
       "434939                                [Outcomes Assessor]   \n",
       "434949                                                 NA   \n",
       "434991  [Participant, Care Provider, Investigator, Out...   \n",
       "\n",
       "            observational_model  \\\n",
       "101         Parallel Assignment   \n",
       "136     Single Group Assignment   \n",
       "684         Parallel Assignment   \n",
       "945         Parallel Assignment   \n",
       "1113        Parallel Assignment   \n",
       "...                         ...   \n",
       "434925      Parallel Assignment   \n",
       "434930      Parallel Assignment   \n",
       "434939      Parallel Assignment   \n",
       "434949    Sequential Assignment   \n",
       "434991      Parallel Assignment   \n",
       "\n",
       "                                      masking_description  \\\n",
       "101     We compared EEG outcomes for those subjects wh...   \n",
       "136                                                    NA   \n",
       "684                                      HM ON vs. HM OFF   \n",
       "945                                                    NA   \n",
       "1113                                                   NA   \n",
       "...                                                   ...   \n",
       "434925  Outcomes assessors will be masked to study con...   \n",
       "434930  Double (Participant and Expert Rater)\\n\\nParti...   \n",
       "434939  single blinded, the assessor of the out comes ...   \n",
       "434949                                                 NA   \n",
       "434991  Only the pharmacist responsible for confection...   \n",
       "\n",
       "                                        model_description  \n",
       "101     Subjects are assigned to one of two groups (an...  \n",
       "136                                       Study Withdrawn  \n",
       "684     Randomized prospective multicenter internation...  \n",
       "945     This study will titrate to tolerance during an...  \n",
       "1113                                         Case Control  \n",
       "...                                                   ...  \n",
       "434925                                Effectiveness Trial  \n",
       "434930                           Randomized Control trial  \n",
       "434939  single-center, prospective, single blinded, wi...  \n",
       "434949  A total of 400 main cohort subjects and 58 rol...  \n",
       "434991  A double-blind, randomized, placebo-controlled...  \n",
       "\n",
       "[50682 rows x 29 columns]"
      ]
     },
     "execution_count": 67,
     "metadata": {},
     "output_type": "execute_result"
    }
   ],
   "source": [
    "studies_table[studies_table['model_description'] != 'NA']"
   ]
  },
  {
   "cell_type": "code",
   "execution_count": 14,
   "id": "13bcb834",
   "metadata": {},
   "outputs": [],
   "source": [
    "studies_table['has_allocation'] = studies_table['design_section'].apply(lambda x: 'DesignAllocation' in x)"
   ]
  },
  {
   "cell_type": "code",
   "execution_count": null,
   "id": "0f02bce5",
   "metadata": {},
   "outputs": [],
   "source": [
    "studies_table['has_time_per'] = studies_table['design_section'].apply(lambda x: 'DesignAllocation' in x)"
   ]
  },
  {
   "cell_type": "code",
   "execution_count": 35,
   "id": "7156dcf3",
   "metadata": {},
   "outputs": [],
   "source": [
    "# Enumerate all the keys in the design section\n",
    "def is_dict(obj):\n",
    "    if isinstance(obj, dict):\n",
    "        return True\n",
    "    else:\n",
    "        return False\n",
    "\n",
    "studies_table['is_dict'] = studies_table['design_section'].apply(is_dict)"
   ]
  },
  {
   "cell_type": "code",
   "execution_count": 37,
   "id": "29f52f7b",
   "metadata": {},
   "outputs": [],
   "source": [
    "design_table = studies_table[studies_table['is_dict']]"
   ]
  },
  {
   "cell_type": "code",
   "execution_count": 39,
   "id": "91cd4f1f",
   "metadata": {},
   "outputs": [
    {
     "data": {
      "text/plain": [
       "DesignMaskingInfo                     330835\n",
       "DesignAllocation                      330360\n",
       "DesignInterventionModel               329481\n",
       "DesignPrimaryPurpose                  328714\n",
       "DesignTimePerspectiveList              94260\n",
       "DesignObservationalModelList           91305\n",
       "DesignInterventionModelDescription     50682\n",
       "Name: design_section, dtype: int64"
      ]
     },
     "execution_count": 39,
     "metadata": {},
     "output_type": "execute_result"
    }
   ],
   "source": [
    "design_table['design_section'].apply(lambda x: list(x.keys())).explode().value_counts()"
   ]
  },
  {
   "cell_type": "code",
   "execution_count": 40,
   "id": "fc83ff94",
   "metadata": {},
   "outputs": [],
   "source": [
    "## Look at masking\n",
    "masking_table = design_table[design_table['design_section'].apply(lambda x: 'DesignMaskingInfo')]"
   ]
  },
  {
   "cell_type": "code",
   "execution_count": 44,
   "id": "e8a02859",
   "metadata": {},
   "outputs": [
    {
     "data": {
      "text/plain": [
       "DesignMasking               330826\n",
       "DesignWhoMaskedList         138053\n",
       "DesignMaskingDescription     26013\n",
       "Name: design_section, dtype: int64"
      ]
     },
     "execution_count": 44,
     "metadata": {},
     "output_type": "execute_result"
    }
   ],
   "source": [
    "masking_table['design_section'].apply(lambda x: list(x['DesignMaskingInfo'].keys())).explode().value_counts()"
   ]
  },
  {
   "cell_type": "code",
   "execution_count": 48,
   "id": "4aad4bd1",
   "metadata": {},
   "outputs": [
    {
     "data": {
      "text/plain": [
       "Parallel Assignment        194688\n",
       "Single Group Assignment     93724\n",
       "Crossover Assignment        28028\n",
       "Sequential Assignment        7410\n",
       "Factorial Assignment         4828\n",
       "N/A                          2157\n",
       "Name: design_section, dtype: int64"
      ]
     },
     "execution_count": 48,
     "metadata": {},
     "output_type": "execute_result"
    }
   ],
   "source": [
    "## Masking types\n",
    "masking_table['design_section'].apply(lambda x: x.get('DesignInterventionModel', 'N/A')).explode().value_counts()"
   ]
  },
  {
   "cell_type": "code",
   "execution_count": 49,
   "id": "ad140d8f",
   "metadata": {},
   "outputs": [
    {
     "data": {
      "text/plain": [
       "Treatment                          213244\n",
       "Prevention                          35753\n",
       "Other                               16239\n",
       "Basic Science                       16043\n",
       "Supportive Care                     16020\n",
       "Diagnostic                          14652\n",
       "Health Services Research             8011\n",
       "N/A                                  6870\n",
       "Screening                            2813\n",
       "Device Feasibility                   1010\n",
       "Educational/Counseling/Training       180\n",
       "Name: design_section, dtype: int64"
      ]
     },
     "execution_count": 49,
     "metadata": {},
     "output_type": "execute_result"
    }
   ],
   "source": [
    "## Masking types\n",
    "masking_table['design_section'].apply(lambda x: x.get('DesignMaskingInfo', 'N/A')).explode().value_counts()"
   ]
  },
  {
   "cell_type": "code",
   "execution_count": 50,
   "id": "4ba24158",
   "metadata": {},
   "outputs": [
    {
     "data": {
      "text/plain": [
       "Participant          105298\n",
       "Investigator          83594\n",
       "Outcomes Assessor     77652\n",
       "Care Provider         49225\n",
       "Name: design_section, dtype: int64"
      ]
     },
     "execution_count": 50,
     "metadata": {},
     "output_type": "execute_result"
    }
   ],
   "source": [
    "masking_table['design_section'].apply(lambda x: x['DesignMaskingInfo'].get(\n",
    "    'DesignWhoMaskedList', {'DesignWhoMasked': []})['DesignWhoMasked']).explode().value_counts()"
   ]
  },
  {
   "cell_type": "code",
   "execution_count": 51,
   "id": "417b3cfa",
   "metadata": {},
   "outputs": [
    {
     "data": {
      "text/plain": [
       "None (Open Label)    185373\n",
       "Single                46240\n",
       "Double                45773\n",
       "Quadruple             31191\n",
       "Triple                22249\n",
       "NA                        9\n",
       "Name: design_section, dtype: int64"
      ]
     },
     "execution_count": 51,
     "metadata": {},
     "output_type": "execute_result"
    }
   ],
   "source": [
    "masking_table['design_section'].apply(lambda x: x['DesignMaskingInfo'].get(\n",
    "    'DesignMasking', 'NA')).explode().value_counts()"
   ]
  },
  {
   "cell_type": "code",
   "execution_count": 52,
   "id": "7bd38bdb",
   "metadata": {},
   "outputs": [
    {
     "data": {
      "text/plain": [
       "Prospective        65205\n",
       "Retrospective      13912\n",
       "Cross-Sectional    11233\n",
       "Other               3910\n",
       "Name: design_section, dtype: int64"
      ]
     },
     "execution_count": 52,
     "metadata": {},
     "output_type": "execute_result"
    }
   ],
   "source": [
    "design_table['design_section'].apply(lambda x: x.get(\n",
    "    'DesignTimePerspectiveList', {'DesignTimePerspective': []})['DesignTimePerspective']).explode().value_counts()"
   ]
  },
  {
   "cell_type": "code",
   "execution_count": 53,
   "id": "e95bb07e",
   "metadata": {},
   "outputs": [
    {
     "data": {
      "text/plain": [
       "Cohort                   53563\n",
       "Case-Control             13318\n",
       "Case-Only                13186\n",
       "Other                     7915\n",
       "Ecologic or Community     1207\n",
       "Case-Crossover             883\n",
       "Defined Population         651\n",
       "Family-Based               492\n",
       "Natural History             90\n",
       "Name: design_section, dtype: int64"
      ]
     },
     "execution_count": 53,
     "metadata": {},
     "output_type": "execute_result"
    }
   ],
   "source": [
    "design_table['design_section'].apply(lambda x: x.get(\n",
    "    'DesignObservationalModelList', {'DesignObservationalModel': []})['DesignObservationalModel']).explode().value_counts()\n"
   ]
  },
  {
   "cell_type": "code",
   "execution_count": 54,
   "id": "703b199b",
   "metadata": {},
   "outputs": [
    {
     "data": {
      "text/plain": [
       "Randomized        217611\n",
       "N/A                76560\n",
       "Non-Randomized     36664\n",
       "Name: design_section, dtype: int64"
      ]
     },
     "execution_count": 54,
     "metadata": {},
     "output_type": "execute_result"
    }
   ],
   "source": [
    "## Masking types\n",
    "masking_table['design_section'].apply(lambda x: x.get('DesignAllocation', 'N/A')).explode().value_counts()"
   ]
  },
  {
   "cell_type": "code",
   "execution_count": 57,
   "id": "6ef12d6a",
   "metadata": {},
   "outputs": [
    {
     "data": {
      "text/plain": [
       "1003"
      ]
     },
     "execution_count": 57,
     "metadata": {},
     "output_type": "execute_result"
    }
   ],
   "source": [
    "len(max(masking_table['design_section'].apply(lambda x: x['DesignMaskingInfo'].get(\n",
    "    'DesignMaskingDescription', 'NA')), key=len))"
   ]
  },
  {
   "cell_type": "code",
   "execution_count": 60,
   "id": "d94d32e9",
   "metadata": {},
   "outputs": [
    {
     "data": {
      "text/plain": [
       "1000"
      ]
     },
     "execution_count": 60,
     "metadata": {},
     "output_type": "execute_result"
    }
   ],
   "source": [
    "len(max(design_table['design_section'].apply(lambda x: x.get('DesignInterventionModelDescription', 'NA')), key=len))"
   ]
  },
  {
   "cell_type": "code",
   "execution_count": 21,
   "id": "e4963cd9",
   "metadata": {},
   "outputs": [
    {
     "data": {
      "text/plain": [
       "Interventional    330360\n",
       "Name: type, dtype: int64"
      ]
     },
     "execution_count": 21,
     "metadata": {},
     "output_type": "execute_result"
    }
   ],
   "source": [
    "# Vast majority of intervential\n",
    "studies_table[studies_table['has_allocation'] == True]['type'].value_counts()"
   ]
  },
  {
   "cell_type": "code",
   "execution_count": 22,
   "id": "a01412c9",
   "metadata": {},
   "outputs": [
    {
     "data": {
      "text/plain": [
       "0         {'DesignAllocation': 'Randomized', 'DesignInte...\n",
       "1         {'DesignAllocation': 'Randomized', 'DesignInte...\n",
       "2         {'DesignTimePerspectiveList': {'DesignTimePers...\n",
       "3         {'DesignAllocation': 'Randomized', 'DesignInte...\n",
       "4         {'DesignObservationalModelList': {'DesignObser...\n",
       "                                ...                        \n",
       "434995    {'DesignAllocation': 'Randomized', 'DesignInte...\n",
       "434996    {'DesignAllocation': 'Randomized', 'DesignInte...\n",
       "434997    {'DesignTimePerspectiveList': {'DesignTimePers...\n",
       "434998    {'DesignAllocation': 'Randomized', 'DesignInte...\n",
       "434999    {'DesignAllocation': 'Non-Randomized', 'Design...\n",
       "Name: design_section, Length: 435000, dtype: object"
      ]
     },
     "execution_count": 22,
     "metadata": {},
     "output_type": "execute_result"
    }
   ],
   "source": [
    "studies_table['design_section']"
   ]
  },
  {
   "cell_type": "code",
   "execution_count": 38,
   "id": "ce6cbae4",
   "metadata": {},
   "outputs": [
    {
     "data": {
      "text/plain": [
       "Completed                    235473\n",
       "Recruiting                    63026\n",
       "Unknown status                55225\n",
       "Terminated                    25042\n",
       "Not yet recruiting            18665\n",
       "Active, not recruiting        18442\n",
       "Withdrawn                     12062\n",
       "Enrolling by invitation        3770\n",
       "Suspended                      1601\n",
       "Withheld                        833\n",
       "No longer available             395\n",
       "Available                       246\n",
       "Approved for marketing          187\n",
       "Temporarily not available        33\n",
       "Name: status, dtype: int64"
      ]
     },
     "execution_count": 38,
     "metadata": {},
     "output_type": "execute_result"
    }
   ],
   "source": [
    "studies_table['status'].value_counts()"
   ]
  },
  {
   "cell_type": "code",
   "execution_count": 39,
   "id": "5ee9058e",
   "metadata": {},
   "outputs": [
    {
     "data": {
      "text/plain": [
       "Actual         261069\n",
       "Anticipated    152068\n",
       "NA              21863\n",
       "Name: completion_date_type, dtype: int64"
      ]
     },
     "execution_count": 39,
     "metadata": {},
     "output_type": "execute_result"
    }
   ],
   "source": [
    "studies_table['completion_date_type'].value_counts()"
   ]
  },
  {
   "cell_type": "code",
   "execution_count": 41,
   "id": "4b44621e",
   "metadata": {},
   "outputs": [
    {
     "data": {
      "text/plain": [
       "COMPLETED                    235473\n",
       "RECRUITING                    63026\n",
       "UNKNOWN_STATUS                55225\n",
       "TERMINATED                    25042\n",
       "NOT_YET_RECRUITING            18665\n",
       "ACTIVE,_NOT_RECRUITING        18442\n",
       "WITHDRAWN                     12062\n",
       "ENROLLING_BY_INVITATION        3770\n",
       "SUSPENDED                      1601\n",
       "WITHHELD                        833\n",
       "NO_LONGER_AVAILABLE             395\n",
       "AVAILABLE                       246\n",
       "APPROVED_FOR_MARKETING          187\n",
       "TEMPORARILY_NOT_AVAILABLE        33\n",
       "Name: status, dtype: int64"
      ]
     },
     "execution_count": 41,
     "metadata": {},
     "output_type": "execute_result"
    }
   ],
   "source": [
    "studies_table['status'].str.upper().str.replace(' ', '_').value_counts()"
   ]
  },
  {
   "cell_type": "code",
   "execution_count": 42,
   "id": "aed33753",
   "metadata": {},
   "outputs": [
    {
     "data": {
      "text/plain": [
       "ACTUAL         261069\n",
       "ANTICIPATED    152068\n",
       "NA              21863\n",
       "Name: completion_date_type, dtype: int64"
      ]
     },
     "execution_count": 42,
     "metadata": {},
     "output_type": "execute_result"
    }
   ],
   "source": [
    "studies_table['completion_date_type'].str.upper().str.replace(' ', '_').value_counts()"
   ]
  },
  {
   "cell_type": "code",
   "execution_count": null,
   "id": "76300fac",
   "metadata": {},
   "outputs": [],
   "source": []
  }
 ],
 "metadata": {
  "kernelspec": {
   "display_name": "Python 3 (ipykernel)",
   "language": "python",
   "name": "python3"
  },
  "language_info": {
   "codemirror_mode": {
    "name": "ipython",
    "version": 3
   },
   "file_extension": ".py",
   "mimetype": "text/x-python",
   "name": "python",
   "nbconvert_exporter": "python",
   "pygments_lexer": "ipython3",
   "version": "3.11.0"
  }
 },
 "nbformat": 4,
 "nbformat_minor": 5
}
