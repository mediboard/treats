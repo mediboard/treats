{
 "cells": [
  {
   "cell_type": "code",
   "execution_count": 78,
   "metadata": {},
   "outputs": [],
   "source": [
    "import boto3\n",
    "import json\n",
    "import os\n",
    "import pprint"
   ]
  },
  {
   "cell_type": "code",
   "execution_count": 74,
   "metadata": {},
   "outputs": [],
   "source": [
    "BUCKET = 'mediboard-textract'"
   ]
  },
  {
   "cell_type": "code",
   "execution_count": 28,
   "metadata": {},
   "outputs": [],
   "source": [
    "STUDIES_PATH = os.path.expanduser('~/data/mediboard/studies/unstructured')"
   ]
  },
  {
   "cell_type": "code",
   "execution_count": 30,
   "metadata": {},
   "outputs": [],
   "source": [
    "pdfs = os.listdir(STUDIES_PATH)"
   ]
  },
  {
   "cell_type": "code",
   "execution_count": 33,
   "metadata": {},
   "outputs": [
    {
     "data": {
      "text/plain": [
       "(['1475-2832-3-2.pdf',\n",
       "  'nejmoa010534.pdf',\n",
       "  'appi.ajp.161.4.677.pdf',\n",
       "  '141767.pdf',\n",
       "  'emslie1997.pdf',\n",
       "  'ioi00178.pdf',\n",
       "  '91U.S.ModafinilinNarcolepsyMulticenterStudyGroupNeurology2000.pdf',\n",
       "  'appi.ajp.161.6.1079.pdf',\n",
       "  'appi.ajp.157.10.1686.pdf',\n",
       "  'sleep-26-7-793.pdf'],\n",
       " 10,\n",
       " '/home/davon/data/mediboard/studies/unstructured')"
      ]
     },
     "execution_count": 33,
     "metadata": {},
     "output_type": "execute_result"
    }
   ],
   "source": [
    "pdfs, len(pdfs), STUDIES_PATH"
   ]
  },
  {
   "cell_type": "code",
   "execution_count": 54,
   "metadata": {},
   "outputs": [
    {
     "name": "stdout",
     "output_type": "stream",
     "text": [
      "<class 'bytes'>\n"
     ]
    }
   ],
   "source": [
    "import base64\n",
    "\n",
    "with open(\"{}/{}\".format(STUDIES_PATH, pdfs[0]), \"rb\") as study_file:\n",
    "    encoded_string = base64.b64encode(study_file.read())\n",
    "    print(type(encoded_string))"
   ]
  },
  {
   "cell_type": "code",
   "execution_count": 60,
   "metadata": {},
   "outputs": [],
   "source": [
    "textract = boto3.client('textract', region_name='us-west-2')"
   ]
  },
  {
   "cell_type": "code",
   "execution_count": null,
   "metadata": {},
   "outputs": [],
   "source": []
  },
  {
   "cell_type": "code",
   "execution_count": 65,
   "metadata": {},
   "outputs": [],
   "source": [
    "response = textract.start_document_text_detection(\n",
    "    DocumentLocation={\n",
    "        'S3Object': {\n",
    "            'Bucket': 'mediboard-textract',\n",
    "            'Name': 'unstructured/141767.pdf',\n",
    "            # 'Version': 'string'\n",
    "        }\n",
    "    },\n",
    "    # NotificationChannel={\n",
    "    #     'SNSTopicArn': 'string',\n",
    "    #     'RoleArn': 'string'\n",
    "    # },\n",
    "    OutputConfig={\n",
    "        'S3Bucket': 'mediboard-textract',\n",
    "        'S3Prefix': 'structured'\n",
    "    },\n",
    ")"
   ]
  },
  {
   "cell_type": "code",
   "execution_count": 70,
   "metadata": {},
   "outputs": [
    {
     "name": "stdout",
     "output_type": "stream",
     "text": [
      "{'JobId': 'd594973d343cbfa32ea62ddf81e936dae1764b312b32134b4041fb8918229950', 'ResponseMetadata': {'RequestId': '998ac3cb-8de7-492d-99a8-6fd30bccc221', 'HTTPStatusCode': 200, 'HTTPHeaders': {'x-amzn-requestid': '998ac3cb-8de7-492d-99a8-6fd30bccc221', 'content-type': 'application/x-amz-json-1.1', 'content-length': '76', 'date': 'Thu, 20 Oct 2022 19:17:41 GMT'}, 'RetryAttempts': 0}}\n"
     ]
    }
   ],
   "source": [
    "print(response)\n",
    "job_id = response['JobId']"
   ]
  },
  {
   "cell_type": "code",
   "execution_count": null,
   "metadata": {},
   "outputs": [],
   "source": [
    "# TODO(davonprewitt): Create "
   ]
  },
  {
   "cell_type": "code",
   "execution_count": 165,
   "metadata": {},
   "outputs": [],
   "source": [
    "from dateutil.parser import parse\n",
    "\n",
    "def is_date(string, fuzzy=False):\n",
    "    \"\"\"\n",
    "    Return whether the string can be interpreted as a date.\n",
    "\n",
    "    :param string: str, string to check for date\n",
    "    :param fuzzy: bool, ignore unknown tokens in string if True\n",
    "    \"\"\"\n",
    "    # print(type(string))\n",
    "    if type(string) != str:\n",
    "        return False\n",
    "    try: \n",
    "        # print(\"H\", string)\n",
    "        # print(\"i\", parse(string, fuzzy=fuzzy))\n",
    "        return True\n",
    "\n",
    "    except ValueError:\n",
    "        return False"
   ]
  },
  {
   "cell_type": "code",
   "execution_count": 198,
   "metadata": {},
   "outputs": [],
   "source": [
    "import datetime as dt\n",
    "\n",
    "def is_date_2(string):\n",
    "\n",
    "    fmts = ('%d %B %Y', '%B %d %Y')\n",
    "    if type(string) != str:\n",
    "        return False\n",
    "\n",
    "    print(\"HEY\")\n",
    "    for fmt in fmts:\n",
    "        try:\n",
    "            print(\"BEFORE\")\n",
    "            t = dt.datetime.strptime(string, fmt)\n",
    "            print(\"AFTER\")\n",
    "            return True\n",
    "        except ValueError as err:\n",
    "            pass\n",
    "\n",
    "    return False\n"
   ]
  },
  {
   "cell_type": "code",
   "execution_count": null,
   "metadata": {},
   "outputs": [],
   "source": []
  },
  {
   "cell_type": "code",
   "execution_count": 221,
   "metadata": {},
   "outputs": [],
   "source": [
    "import datefinder\n",
    "\n",
    "def is_date_3(string):\n",
    "    if type(string) != str:\n",
    "        return []\n",
    "\n",
    "    matches = datefinder.find_dates(string, strict=True)\n",
    "    return [match for match in matches]"
   ]
  },
  {
   "cell_type": "code",
   "execution_count": 246,
   "metadata": {},
   "outputs": [
    {
     "name": "stdout",
     "output_type": "stream",
     "text": [
      "structured/d594973d343cbfa32ea62ddf81e936dae1764b312b32134b4041fb8918229950/1\n",
      "None\n",
      "Copyright © 2015 D. Wolf and J. Otto. This is an open access article distributed under the Creative Commons Attribution License,\n",
      "which permits unrestricted use, distribution, and reproduction in any medium, provided the original work is properly cited.\n",
      "Lidocaine is a well-accepted topical anaesthetic, also used in minors to treat painful conditions on mucosal membranes. This\n",
      "generate efficacy and safety data for a lidocaine gel (2%) in younger children with painful conditions in the oral cavity. One hundred\n",
      "sixty-one children were included in two subgroups: 4-8 years, average age 6.4 years, treated with verum or placebo and 6 months-\n",
      "<4 years, average age 1.8 years, treated only with verum. Pain reduction was measured from the time prior to administration to 10\n",
      "or 30 minutes after. In addition, adverse events and local tolerability were evaluated. In group I, pain was reduced significantly after\n",
      "treatment with verum compared to placebo at both time points. In group II, the individual pain rating shift showed statistically\n",
      "significant lower pain after treatment. Only seven out of 161 patients reported an adverse event but none were classified as being\n",
      "related to the study medication. The local tolerability was assessed as very good in over 97% of cases. For painful sites in the oral\n",
      "cavity, a 2% lidocaine gel is a meaningful tool for short-term treatment in the paediatric population.\n"
     ]
    },
    {
     "ename": "TypeError",
     "evalue": "'NoneType' object is not subscriptable",
     "output_type": "error",
     "traceback": [
      "\u001b[0;31m---------------------------------------------------------------------------\u001b[0m",
      "\u001b[0;31mTypeError\u001b[0m                                 Traceback (most recent call last)",
      "Cell \u001b[0;32mIn [246], line 38\u001b[0m\n\u001b[1;32m     35\u001b[0m \u001b[39m# print(flatten(date_pos)[-1])\u001b[39;00m\n\u001b[1;32m     36\u001b[0m \u001b[39m# print(title)\u001b[39;00m\n\u001b[1;32m     37\u001b[0m \u001b[39mfor\u001b[39;00m p \u001b[39min\u001b[39;00m parsed[\u001b[39m'\u001b[39m\u001b[39mBlocks\u001b[39m\u001b[39m'\u001b[39m]:\n\u001b[0;32m---> 38\u001b[0m     \u001b[39mif\u001b[39;00m (\u001b[39mlen\u001b[39m(p[\u001b[39m'\u001b[39;49m\u001b[39mRelationships\u001b[39;49m\u001b[39m'\u001b[39;49m][\u001b[39m0\u001b[39;49m][\u001b[39m'\u001b[39m\u001b[39mIds\u001b[39m\u001b[39m'\u001b[39m]) \u001b[39m>\u001b[39m \u001b[39m14\u001b[39m):\n\u001b[1;32m     39\u001b[0m         \u001b[39mprint\u001b[39m(p[\u001b[39m'\u001b[39m\u001b[39mText\u001b[39m\u001b[39m'\u001b[39m])\n\u001b[1;32m     40\u001b[0m     \u001b[39m# else:\u001b[39;00m\n\u001b[1;32m     41\u001b[0m     \u001b[39m#     pass\u001b[39;00m\n",
      "\u001b[0;31mTypeError\u001b[0m: 'NoneType' object is not subscriptable"
     ]
    }
   ],
   "source": [
    "s3 = boto3.client('s3', region_name='us-west-2')\n",
    "\n",
    "# dict_keys(\n",
    "# ['BlockType', \n",
    "# 'ColumnIndex', \n",
    "# 'ColumnSpan',\n",
    "# 'Confidence', \n",
    "# 'EntityTypes', \n",
    "# 'Geometry', \n",
    "# 'Hint', \n",
    "# 'Id', \n",
    "# 'Page', \n",
    "# 'PageClassification', \n",
    "# 'Query', \n",
    "# 'Relationships', \n",
    "# 'RowIndex', \n",
    "# 'RowSpan', \n",
    "# 'SelectionStatus', \n",
    "# 'Text', \n",
    "# 'TextType'\n",
    "# ])\n",
    "def flatten(l):\n",
    "    return [item for sublist in l for item in sublist]\n",
    "\n",
    "for key in s3.list_objects(Bucket=BUCKET)['Contents']:\n",
    "    object = key['Key']\n",
    "    if 'structured/{}'.format(job_id) in object and '.s3_access_check' not in object:\n",
    "        print(object)\n",
    "        data = s3.get_object(Bucket=BUCKET, Key=object)\n",
    "        contents = data['Body'].read()\n",
    "        parsed = json.loads(contents.decode(\"utf-8\"))\n",
    "        \n",
    "        title = ' '.join([p['Text'] for p in parsed['Blocks'] if p['BlockType'] == \"LINE\" and p['Geometry']['BoundingBox']['Height'] > .018]).lstrip('Clinical Study')\n",
    "        date_pos = [is_date_3(p['Text']) for p in parsed['Blocks'] if len(is_date_3(p['Text'])) > 0]\n",
    "        # print(flatten(date_pos)[-1])\n",
    "        # print(title)\n",
    "        for p in parsed['Blocks']:\n",
    "            if (len(p['Relationships'][0]['Ids']) > 14 and 'Copyright'):\n",
    "                print(p['Text'])\n",
    "            # else:\n",
    "            #     pass\n",
    "        \n",
    "        break\n"
   ]
  },
  {
   "cell_type": "code",
   "execution_count": null,
   "metadata": {},
   "outputs": [],
   "source": []
  }
 ],
 "metadata": {
  "kernelspec": {
   "display_name": "Python 3.9.13 ('meditreats')",
   "language": "python",
   "name": "python3"
  },
  "language_info": {
   "codemirror_mode": {
    "name": "ipython",
    "version": 3
   },
   "file_extension": ".py",
   "mimetype": "text/x-python",
   "name": "python",
   "nbconvert_exporter": "python",
   "pygments_lexer": "ipython3",
   "version": "3.9.13"
  },
  "orig_nbformat": 4,
  "vscode": {
   "interpreter": {
    "hash": "4cdd983c5691c80e8c412be7983ef587349620145a57ab7721a1b369e100ba46"
   }
  }
 },
 "nbformat": 4,
 "nbformat_minor": 2
}
